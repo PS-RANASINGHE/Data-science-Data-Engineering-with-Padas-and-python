{
 "cells": [
  {
   "cell_type": "code",
   "execution_count": 1,
   "id": "b2d1c5b7",
   "metadata": {},
   "outputs": [],
   "source": [
    "# import libraries needed\n",
    "import numpy as np\n",
    "import pandas as pd"
   ]
  },
  {
   "cell_type": "code",
   "execution_count": 2,
   "id": "b95104b9-7a9e-4971-9930-0c17bc4fd814",
   "metadata": {},
   "outputs": [
    {
     "name": "stdout",
     "output_type": "stream",
     "text": [
      "\n",
      "INSTALLED VERSIONS\n",
      "------------------\n",
      "commit                : d9cdd2ee5a58015ef6f4d15c7226110c9aab8140\n",
      "python                : 3.12.7.final.0\n",
      "python-bits           : 64\n",
      "OS                    : Windows\n",
      "OS-release            : 10\n",
      "Version               : 10.0.19045\n",
      "machine               : AMD64\n",
      "processor             : Intel64 Family 6 Model 158 Stepping 9, GenuineIntel\n",
      "byteorder             : little\n",
      "LC_ALL                : None\n",
      "LANG                  : None\n",
      "LOCALE                : English_United States.1252\n",
      "\n",
      "pandas                : 2.2.2\n",
      "numpy                 : 1.26.4\n",
      "pytz                  : 2024.1\n",
      "dateutil              : 2.9.0.post0\n",
      "setuptools            : 75.1.0\n",
      "pip                   : 24.2\n",
      "Cython                : None\n",
      "pytest                : 7.4.4\n",
      "hypothesis            : None\n",
      "sphinx                : 7.3.7\n",
      "blosc                 : None\n",
      "feather               : None\n",
      "xlsxwriter            : None\n",
      "lxml.etree            : 5.2.1\n",
      "html5lib              : None\n",
      "pymysql               : None\n",
      "psycopg2              : 2.9.10\n",
      "jinja2                : 3.1.4\n",
      "IPython               : 8.27.0\n",
      "pandas_datareader     : None\n",
      "adbc-driver-postgresql: None\n",
      "adbc-driver-sqlite    : None\n",
      "bs4                   : 4.12.3\n",
      "bottleneck            : 1.3.7\n",
      "dataframe-api-compat  : None\n",
      "fastparquet           : None\n",
      "fsspec                : 2024.6.1\n",
      "gcsfs                 : None\n",
      "matplotlib            : 3.9.2\n",
      "numba                 : 0.60.0\n",
      "numexpr               : 2.8.7\n",
      "odfpy                 : None\n",
      "openpyxl              : 3.1.5\n",
      "pandas_gbq            : None\n",
      "pyarrow               : 16.1.0\n",
      "pyreadstat            : None\n",
      "python-calamine       : None\n",
      "pyxlsb                : None\n",
      "s3fs                  : 2024.6.1\n",
      "scipy                 : 1.13.1\n",
      "sqlalchemy            : 2.0.34\n",
      "tables                : 3.10.1\n",
      "tabulate              : 0.9.0\n",
      "xarray                : 2023.6.0\n",
      "xlrd                  : None\n",
      "zstandard             : 0.23.0\n",
      "tzdata                : 2023.3\n",
      "qtpy                  : 2.4.1\n",
      "pyqt5                 : None\n"
     ]
    }
   ],
   "source": [
    "pd.show_versions()"
   ]
  },
  {
   "cell_type": "markdown",
   "id": "31a24d50",
   "metadata": {},
   "source": [
    "# Assignment 1: Series Basics\n",
    "\n",
    "The code has been previded to create an array, `oil_array` from a dataframe column. \n",
    "\n",
    "* Convert `oil_array` into a Pandas Series, called `oil_series`. Give it a name!\n",
    "* Return the name, dtype, size, and index of `oil_series`.\n",
    "\n",
    "Take the mean of the values array. \n",
    "\n",
    "Then, convert the series to integer datatype and recalculate the mean. \n"
   ]
  },
  {
   "cell_type": "code",
   "execution_count": 2,
   "id": "df36e3d6",
   "metadata": {},
   "outputs": [
    {
     "data": {
      "text/plain": [
       "array([52.22, 51.44, 51.98, 52.01, 52.82, 54.01, 53.8 , 53.75, 52.36,\n",
       "       53.26, 53.77, 53.98, 51.95, 50.82, 52.19, 53.01, 52.36, 52.45,\n",
       "       51.12, 51.39, 52.33, 52.77, 52.38, 52.14, 53.24, 53.18, 52.63,\n",
       "       52.75, 53.9 , 53.55, 53.81, 53.01, 52.19, 52.37, 52.99, 53.84,\n",
       "       52.96, 53.21, 53.11, 53.41, 53.41, 54.02, 53.61, 54.48, 53.99,\n",
       "       54.04, 54.  , 53.82, 52.63, 53.33, 53.19, 52.68, 49.83, 48.75,\n",
       "       48.05, 47.95, 47.24, 48.34, 48.3 , 48.34, 47.79, 47.02, 47.29,\n",
       "       47.  , 47.3 , 47.02, 48.36, 49.47, 50.3 , 50.54, 50.25, 50.99,\n",
       "       51.14, 51.69, 52.25, 53.06, 53.38, 53.12, 53.19, 52.62, 52.46,\n",
       "       50.49, 50.26, 49.64, 48.9 , 49.22, 49.22, 48.96, 49.31, 48.83,\n",
       "       47.65, 47.79, 45.55, 46.23, 46.46, 45.84, 47.28, 47.81, 47.83,\n",
       "       48.86])"
      ]
     },
     "execution_count": 2,
     "metadata": {},
     "output_type": "execute_result"
    }
   ],
   "source": [
    "# create a DataFrame from the oil file, drop missing values\n",
    "oil = pd.read_csv(\"../retail/oil.csv\").dropna()\n",
    "\n",
    "# Grab 100 rows of oil prices\n",
    "oil_array = np.array(oil[\"dcoilwtico\"].iloc[1000:1100])\n",
    "\n",
    "oil_array"
   ]
  },
  {
   "cell_type": "code",
   "execution_count": 3,
   "id": "fc70abd0",
   "metadata": {},
   "outputs": [],
   "source": [
    "oil_series = pd.Series(oil_array, name = \"Oil_series\")"
   ]
  },
  {
   "cell_type": "code",
   "execution_count": 5,
   "id": "54190e1a",
   "metadata": {},
   "outputs": [
    {
     "name": "stdout",
     "output_type": "stream",
     "text": [
      "Name =  Oil_series\n",
      "dtype =  float64\n",
      "Size =  100\n",
      "Index =  RangeIndex(start=0, stop=100, step=1)\n"
     ]
    }
   ],
   "source": [
    "print(f\"Name = \", oil_series.name)\n",
    "print(f\"dtype = \", oil_series.dtype)\n",
    "print(f\"Size = \", oil_series.size)\n",
    "print(f\"Index = \", oil_series.index)\n"
   ]
  },
  {
   "cell_type": "code",
   "execution_count": 6,
   "id": "7bf43cdc",
   "metadata": {},
   "outputs": [
    {
     "data": {
      "text/plain": [
       "51.128299999999996"
      ]
     },
     "execution_count": 6,
     "metadata": {},
     "output_type": "execute_result"
    }
   ],
   "source": [
    "oil_series.mean()"
   ]
  },
  {
   "cell_type": "code",
   "execution_count": 4,
   "id": "96a0fb2a",
   "metadata": {},
   "outputs": [
    {
     "ename": "AttributeError",
     "evalue": "module 'pandas' has no attribute 'mean'",
     "output_type": "error",
     "traceback": [
      "\u001b[1;31m---------------------------------------------------------------------------\u001b[0m",
      "\u001b[1;31mAttributeError\u001b[0m                            Traceback (most recent call last)",
      "Cell \u001b[1;32mIn[4], line 1\u001b[0m\n\u001b[1;32m----> 1\u001b[0m pd\u001b[38;5;241m.\u001b[39mmean(oil_series)\n",
      "\u001b[1;31mAttributeError\u001b[0m: module 'pandas' has no attribute 'mean'"
     ]
    }
   ],
   "source": [
    "pd.mean(oil_series)"
   ]
  },
  {
   "cell_type": "code",
   "execution_count": 5,
   "id": "7fab258c-69b6-489e-b1e5-7c3b5a60374d",
   "metadata": {},
   "outputs": [
    {
     "data": {
      "text/plain": [
       "50.66"
      ]
     },
     "execution_count": 5,
     "metadata": {},
     "output_type": "execute_result"
    }
   ],
   "source": [
    "oil_series.astype(int).mean()"
   ]
  },
  {
   "cell_type": "code",
   "execution_count": null,
   "id": "20f123ae-917a-43e4-8417-a1cad4e31197",
   "metadata": {},
   "outputs": [],
   "source": []
  },
  {
   "cell_type": "code",
   "execution_count": null,
   "id": "1b6d11ee",
   "metadata": {},
   "outputs": [],
   "source": []
  },
  {
   "cell_type": "code",
   "execution_count": null,
   "id": "d5bc48f2",
   "metadata": {},
   "outputs": [],
   "source": []
  },
  {
   "cell_type": "markdown",
   "id": "663f2bda",
   "metadata": {},
   "source": [
    "# Assignment 2:  Accessing Series Data\n",
    "\n",
    "* Set the date series, which has been created below, to be the index of the oil price series created in assignment 1.\n",
    "\n",
    "\n",
    "* Then, take the mean of the first 10 and last 10 prices of the series.\n",
    "\n",
    "\n",
    "* Finally, grab all oil prices from January 1st, 2017 - January 7th, 2017 (inclusive) and set the index to the default integer index."
   ]
  },
  {
   "cell_type": "code",
   "execution_count": 6,
   "id": "cad8001a",
   "metadata": {},
   "outputs": [],
   "source": [
    "# extract date column from oil DataFrame and grab first 100 rows\n",
    "    \n",
    "dates = pd.Series(oil[\"date\"]).iloc[1000:1100]"
   ]
  },
  {
   "cell_type": "code",
   "execution_count": 7,
   "id": "cd531e09-4a6c-4308-beb4-56f89336cb9b",
   "metadata": {},
   "outputs": [
    {
     "data": {
      "text/plain": [
       "1035    2016-12-20\n",
       "1036    2016-12-21\n",
       "1037    2016-12-22\n",
       "1038    2016-12-23\n",
       "1040    2016-12-27\n",
       "           ...    \n",
       "1135    2017-05-09\n",
       "1136    2017-05-10\n",
       "1137    2017-05-11\n",
       "1138    2017-05-12\n",
       "1139    2017-05-15\n",
       "Name: date, Length: 100, dtype: object"
      ]
     },
     "execution_count": 7,
     "metadata": {},
     "output_type": "execute_result"
    }
   ],
   "source": [
    "dates"
   ]
  },
  {
   "cell_type": "code",
   "execution_count": 8,
   "id": "49b55b99",
   "metadata": {},
   "outputs": [
    {
     "data": {
      "text/plain": [
       "date\n",
       "2016-12-20    52.22\n",
       "2016-12-21    51.44\n",
       "2016-12-22    51.98\n",
       "2016-12-23    52.01\n",
       "2016-12-27    52.82\n",
       "              ...  \n",
       "2017-05-09    45.84\n",
       "2017-05-10    47.28\n",
       "2017-05-11    47.81\n",
       "2017-05-12    47.83\n",
       "2017-05-15    48.86\n",
       "Name: Oil_series, Length: 100, dtype: float64"
      ]
     },
     "execution_count": 8,
     "metadata": {},
     "output_type": "execute_result"
    }
   ],
   "source": [
    "oil_series.index = dates\n",
    "oil_series"
   ]
  },
  {
   "cell_type": "code",
   "execution_count": 9,
   "id": "801aae04",
   "metadata": {},
   "outputs": [
    {
     "data": {
      "text/plain": [
       "52.765"
      ]
     },
     "execution_count": 9,
     "metadata": {},
     "output_type": "execute_result"
    }
   ],
   "source": [
    "oil_series.iloc[:10].mean()"
   ]
  },
  {
   "cell_type": "code",
   "execution_count": 10,
   "id": "44aa48a6",
   "metadata": {},
   "outputs": [
    {
     "data": {
      "text/plain": [
       "date\n",
       "2016-12-20    52.22\n",
       "2016-12-21    51.44\n",
       "2016-12-22    51.98\n",
       "2016-12-23    52.01\n",
       "2016-12-27    52.82\n",
       "2016-12-28    54.01\n",
       "2016-12-29    53.80\n",
       "2016-12-30    53.75\n",
       "2017-01-03    52.36\n",
       "2017-01-04    53.26\n",
       "2017-01-05    53.77\n",
       "2017-01-06    53.98\n",
       "2017-01-09    51.95\n",
       "2017-01-10    50.82\n",
       "2017-01-11    52.19\n",
       "2017-01-12    53.01\n",
       "2017-01-13    52.36\n",
       "2017-01-17    52.45\n",
       "2017-01-18    51.12\n",
       "2017-01-19    51.39\n",
       "Name: Oil_series, dtype: float64"
      ]
     },
     "execution_count": 10,
     "metadata": {},
     "output_type": "execute_result"
    }
   ],
   "source": [
    "oil_series[:20]"
   ]
  },
  {
   "cell_type": "code",
   "execution_count": 50,
   "id": "9cbbf38e-4218-43a2-b09c-996f88c3588e",
   "metadata": {},
   "outputs": [
    {
     "data": {
      "text/plain": [
       "47.05222222222223"
      ]
     },
     "execution_count": 50,
     "metadata": {},
     "output_type": "execute_result"
    }
   ],
   "source": [
    "oil_series.iloc[-10:].mean()"
   ]
  },
  {
   "cell_type": "code",
   "execution_count": 12,
   "id": "39dfea6d-b18b-446c-a752-750aaa887612",
   "metadata": {},
   "outputs": [
    {
     "data": {
      "text/html": [
       "<div>\n",
       "<style scoped>\n",
       "    .dataframe tbody tr th:only-of-type {\n",
       "        vertical-align: middle;\n",
       "    }\n",
       "\n",
       "    .dataframe tbody tr th {\n",
       "        vertical-align: top;\n",
       "    }\n",
       "\n",
       "    .dataframe thead th {\n",
       "        text-align: right;\n",
       "    }\n",
       "</style>\n",
       "<table border=\"1\" class=\"dataframe\">\n",
       "  <thead>\n",
       "    <tr style=\"text-align: right;\">\n",
       "      <th></th>\n",
       "      <th>date</th>\n",
       "      <th>Oil_series</th>\n",
       "    </tr>\n",
       "  </thead>\n",
       "  <tbody>\n",
       "    <tr>\n",
       "      <th>0</th>\n",
       "      <td>2017-01-03</td>\n",
       "      <td>52.36</td>\n",
       "    </tr>\n",
       "    <tr>\n",
       "      <th>1</th>\n",
       "      <td>2017-01-04</td>\n",
       "      <td>53.26</td>\n",
       "    </tr>\n",
       "    <tr>\n",
       "      <th>2</th>\n",
       "      <td>2017-01-05</td>\n",
       "      <td>53.77</td>\n",
       "    </tr>\n",
       "    <tr>\n",
       "      <th>3</th>\n",
       "      <td>2017-01-06</td>\n",
       "      <td>53.98</td>\n",
       "    </tr>\n",
       "  </tbody>\n",
       "</table>\n",
       "</div>"
      ],
      "text/plain": [
       "         date  Oil_series\n",
       "0  2017-01-03       52.36\n",
       "1  2017-01-04       53.26\n",
       "2  2017-01-05       53.77\n",
       "3  2017-01-06       53.98"
      ]
     },
     "execution_count": 12,
     "metadata": {},
     "output_type": "execute_result"
    }
   ],
   "source": [
    "rest_series = oil_series.loc['2017-01-01' : '2017-01-07'].reset_index()\n",
    "rest_series"
   ]
  },
  {
   "cell_type": "code",
   "execution_count": null,
   "id": "e46e0790-3236-4994-a449-cba68f44099b",
   "metadata": {},
   "outputs": [],
   "source": []
  },
  {
   "cell_type": "code",
   "execution_count": null,
   "id": "d4fc4995-8ead-4f83-bd79-8c4569d7f9d4",
   "metadata": {},
   "outputs": [],
   "source": []
  },
  {
   "cell_type": "code",
   "execution_count": null,
   "id": "41e62a92-8f8b-4005-98dd-f491e550d1f8",
   "metadata": {},
   "outputs": [],
   "source": []
  },
  {
   "cell_type": "code",
   "execution_count": null,
   "id": "3f62e1ce",
   "metadata": {},
   "outputs": [],
   "source": [
    "\n"
   ]
  },
  {
   "cell_type": "code",
   "execution_count": null,
   "id": "2485f044",
   "metadata": {},
   "outputs": [],
   "source": [
    "\n"
   ]
  },
  {
   "cell_type": "markdown",
   "id": "deec0721",
   "metadata": {},
   "source": [
    "# Assignment 3: Sorting and Filtering Series\n",
    "\n",
    "* First, get the 10 lowest prices from the data. \n",
    "* Sort the 10 lowest prices by date, starting with the most recent and ending with the oldest price.\n",
    "\n",
    "* Finally, use the list of provided dates. Select only rows with these dates that had a price of less than 50 dollars per barrel."
   ]
  },
  {
   "cell_type": "code",
   "execution_count": 13,
   "id": "46126b3e",
   "metadata": {},
   "outputs": [],
   "source": [
    "# list of dates to be used to solve bullet 3\n",
    "\n",
    "dates = [\n",
    "    \"2016-12-22\",\n",
    "    \"2017-05-03\",\n",
    "    \"2017-01-06\",\n",
    "    \"2017-03-05\",\n",
    "    \"2017-02-12\",\n",
    "    \"2017-03-21\",\n",
    "    \"2017-04-14\",\n",
    "    \"2017-04-15\",\n",
    "]"
   ]
  },
  {
   "cell_type": "code",
   "execution_count": 14,
   "id": "4b3a2844-0633-42e9-9112-77888af001db",
   "metadata": {},
   "outputs": [
    {
     "data": {
      "text/plain": [
       "date\n",
       "2017-05-10    47.28\n",
       "2017-05-09    45.84\n",
       "2017-05-08    46.46\n",
       "2017-05-05    46.23\n",
       "2017-05-04    45.55\n",
       "2017-03-27    47.02\n",
       "2017-03-23    47.00\n",
       "2017-03-22    47.29\n",
       "2017-03-21    47.02\n",
       "2017-03-14    47.24\n",
       "Name: Oil_series, dtype: float64"
      ]
     },
     "execution_count": 14,
     "metadata": {},
     "output_type": "execute_result"
    }
   ],
   "source": [
    "oil_series.sort_values().iloc[:10].sort_index(ascending=False)"
   ]
  },
  {
   "cell_type": "code",
   "execution_count": 15,
   "id": "2eecaa97",
   "metadata": {},
   "outputs": [],
   "source": [
    "lowerest = oil_series.sort_values().iloc[:10]"
   ]
  },
  {
   "cell_type": "code",
   "execution_count": 16,
   "id": "4864ae20",
   "metadata": {},
   "outputs": [
    {
     "data": {
      "text/plain": [
       "date\n",
       "2017-05-10    47.28\n",
       "2017-05-09    45.84\n",
       "2017-05-08    46.46\n",
       "2017-05-05    46.23\n",
       "2017-05-04    45.55\n",
       "2017-03-27    47.02\n",
       "2017-03-23    47.00\n",
       "2017-03-22    47.29\n",
       "2017-03-21    47.02\n",
       "2017-03-14    47.24\n",
       "Name: Oil_series, dtype: float64"
      ]
     },
     "execution_count": 16,
     "metadata": {},
     "output_type": "execute_result"
    }
   ],
   "source": [
    "lowerest.sort_index(ascending=False)"
   ]
  },
  {
   "cell_type": "code",
   "execution_count": 17,
   "id": "293d8e18-c105-467c-90a6-b83f067f3d59",
   "metadata": {},
   "outputs": [
    {
     "data": {
      "text/plain": [
       "date\n",
       "2017-03-21    47.02\n",
       "2017-05-03    47.79\n",
       "Name: Oil_series, dtype: float64"
      ]
     },
     "execution_count": 17,
     "metadata": {},
     "output_type": "execute_result"
    }
   ],
   "source": [
    "mask = oil_series.index.isin(dates) & (oil_series <= 50)\n",
    "oil_series.loc[mask]"
   ]
  },
  {
   "cell_type": "code",
   "execution_count": null,
   "id": "4843bb59-d120-4df8-b2cc-c8378499a531",
   "metadata": {},
   "outputs": [],
   "source": []
  },
  {
   "cell_type": "code",
   "execution_count": null,
   "id": "f4c3c35b-df08-425f-84a3-52f86b5cef49",
   "metadata": {},
   "outputs": [],
   "source": []
  },
  {
   "cell_type": "code",
   "execution_count": null,
   "id": "cdff026b-85df-4061-aec3-49c4dcc0122b",
   "metadata": {},
   "outputs": [],
   "source": []
  },
  {
   "cell_type": "code",
   "execution_count": null,
   "id": "913f6380-108f-4a39-b7ed-de07db7e2244",
   "metadata": {},
   "outputs": [],
   "source": []
  },
  {
   "cell_type": "markdown",
   "id": "ce362e59",
   "metadata": {},
   "source": [
    "\n",
    "# Assignment 4: Series Operations\n",
    "\n",
    "* Increase the prices in the oil series by 10%, and add an additional 2 dollars per barrel on top of that.\n",
    "\n",
    "* Then, create a series that represents the difference between each price and max price.\n",
    "\n",
    "* Finally, extract the month from the string dates in the index and store them as an integer in their own series."
   ]
  },
  {
   "cell_type": "code",
   "execution_count": 18,
   "id": "38305859",
   "metadata": {},
   "outputs": [
    {
     "data": {
      "text/plain": [
       "date\n",
       "2016-12-20    59.442\n",
       "2016-12-21    58.584\n",
       "2016-12-22    59.178\n",
       "2016-12-23    59.211\n",
       "2016-12-27    60.102\n",
       "               ...  \n",
       "2017-05-09    52.424\n",
       "2017-05-10    54.008\n",
       "2017-05-11    54.591\n",
       "2017-05-12    54.613\n",
       "2017-05-15    55.746\n",
       "Name: Oil_series, Length: 100, dtype: float64"
      ]
     },
     "execution_count": 18,
     "metadata": {},
     "output_type": "execute_result"
    }
   ],
   "source": [
    "oil_sser2 = oil_series.add(oil_series *0.1).add(2)\n",
    "oil_sser2\n",
    "\n"
   ]
  },
  {
   "cell_type": "code",
   "execution_count": 19,
   "id": "efd1b359-f616-4faa-b141-eeaffc660782",
   "metadata": {},
   "outputs": [],
   "source": [
    "maxval = oil_series.max()"
   ]
  },
  {
   "cell_type": "code",
   "execution_count": 20,
   "id": "ad87f555-1170-4da8-82b8-04667235425b",
   "metadata": {},
   "outputs": [
    {
     "data": {
      "text/plain": [
       "date\n",
       "2016-12-20   -0.041483\n",
       "2016-12-21   -0.055800\n",
       "2016-12-22   -0.045888\n",
       "2016-12-23   -0.045338\n",
       "2016-12-27   -0.030470\n",
       "                ...   \n",
       "2017-05-09   -0.158590\n",
       "2017-05-10   -0.132159\n",
       "2017-05-11   -0.122430\n",
       "2017-05-12   -0.122063\n",
       "2017-05-15   -0.103157\n",
       "Name: Oil_series, Length: 100, dtype: float64"
      ]
     },
     "execution_count": 20,
     "metadata": {},
     "output_type": "execute_result"
    }
   ],
   "source": [
    "(oil_series - maxval) / maxval"
   ]
  },
  {
   "cell_type": "code",
   "execution_count": 21,
   "id": "0f92574f",
   "metadata": {},
   "outputs": [
    {
     "data": {
      "text/plain": [
       "date\n",
       "2016-12-20    7.222\n",
       "2016-12-21    7.144\n",
       "2016-12-22    7.198\n",
       "2016-12-23    7.201\n",
       "2016-12-27    7.282\n",
       "              ...  \n",
       "2017-05-09    6.584\n",
       "2017-05-10    6.728\n",
       "2017-05-11    6.781\n",
       "2017-05-12    6.783\n",
       "2017-05-15    6.886\n",
       "Name: Oil_series, Length: 100, dtype: float64"
      ]
     },
     "execution_count": 21,
     "metadata": {},
     "output_type": "execute_result"
    }
   ],
   "source": [
    "oil_sser2 = oil_sser2.sub(oil_series)\n",
    "oil_sser2"
   ]
  },
  {
   "cell_type": "code",
   "execution_count": 22,
   "id": "98b673c0",
   "metadata": {},
   "outputs": [
    {
     "data": {
      "text/plain": [
       "date\n",
       "2016-12-20    59.442\n",
       "2016-12-21    58.584\n",
       "2016-12-22    59.178\n",
       "2016-12-23    59.211\n",
       "2016-12-27    60.102\n",
       "               ...  \n",
       "2017-05-09    52.424\n",
       "2017-05-10    54.008\n",
       "2017-05-11    54.591\n",
       "2017-05-12    54.613\n",
       "2017-05-15    55.746\n",
       "Name: Oil_series, Length: 100, dtype: float64"
      ]
     },
     "execution_count": 22,
     "metadata": {},
     "output_type": "execute_result"
    }
   ],
   "source": [
    "oil_series*1.1 + 2 "
   ]
  },
  {
   "cell_type": "code",
   "execution_count": 23,
   "id": "884acc74-3ac2-43d2-adbb-57455c98831c",
   "metadata": {},
   "outputs": [
    {
     "data": {
      "text/plain": [
       "0     2016-12-20\n",
       "1     2016-12-21\n",
       "2     2016-12-22\n",
       "3     2016-12-23\n",
       "4     2016-12-27\n",
       "         ...    \n",
       "95    2017-05-09\n",
       "96    2017-05-10\n",
       "97    2017-05-11\n",
       "98    2017-05-12\n",
       "99    2017-05-15\n",
       "Name: date, Length: 100, dtype: object"
      ]
     },
     "execution_count": 23,
     "metadata": {},
     "output_type": "execute_result"
    }
   ],
   "source": [
    "# Create a series from the index of oil_series\n",
    "datesoilmax = pd.Series(oil_series.index)\n",
    "datesoilmax"
   ]
  },
  {
   "cell_type": "code",
   "execution_count": 24,
   "id": "3f4820bf-6a37-467e-b100-c3dd7a348825",
   "metadata": {},
   "outputs": [
    {
     "data": {
      "text/plain": [
       "0     12\n",
       "1     12\n",
       "2     12\n",
       "3     12\n",
       "4     12\n",
       "      ..\n",
       "95     5\n",
       "96     5\n",
       "97     5\n",
       "98     5\n",
       "99     5\n",
       "Name: date, Length: 100, dtype: int32"
      ]
     },
     "execution_count": 24,
     "metadata": {},
     "output_type": "execute_result"
    }
   ],
   "source": [
    "# Slice out month portion of text string and convert to int\n",
    "month = pd.Series(datesoilmax.str[5:7].astype(int))\n",
    "month"
   ]
  },
  {
   "cell_type": "code",
   "execution_count": null,
   "id": "0923d7c0-6806-4177-b62f-197bde9a70b3",
   "metadata": {},
   "outputs": [],
   "source": []
  },
  {
   "cell_type": "code",
   "execution_count": null,
   "id": "0836c719",
   "metadata": {},
   "outputs": [],
   "source": []
  },
  {
   "cell_type": "code",
   "execution_count": null,
   "id": "fb8eac50",
   "metadata": {},
   "outputs": [],
   "source": []
  },
  {
   "cell_type": "markdown",
   "id": "4735ed48",
   "metadata": {},
   "source": [
    "# Assignment 5: Series Aggregations\n",
    "\n",
    "* Calculate the sum and mean of prices in the month of March. \n",
    "\n",
    "* Next, calculate how many prices were recorded in January and February.\n",
    "\n",
    "* Then, calculate the 10th and 90th percentiles across all data.\n",
    "\n",
    "* Finally, how often did unique integer dollar value (e.g. 51, 52) occur in the data? Normalize this to a percentage.   "
   ]
  },
  {
   "cell_type": "code",
   "execution_count": 25,
   "id": "b7846132",
   "metadata": {},
   "outputs": [
    {
     "data": {
      "text/plain": [
       "1134.5399999999997"
      ]
     },
     "execution_count": 25,
     "metadata": {},
     "output_type": "execute_result"
    }
   ],
   "source": [
    "oil_series[oil_series.index.str[5:7] == \"03\"].sum()"
   ]
  },
  {
   "cell_type": "code",
   "execution_count": 26,
   "id": "4a82a7ce-2428-4a41-924d-8b2fcf4a9251",
   "metadata": {},
   "outputs": [
    {
     "data": {
      "text/plain": [
       "39"
      ]
     },
     "execution_count": 26,
     "metadata": {},
     "output_type": "execute_result"
    }
   ],
   "source": [
    "oil_series[(oil_series.index.str[5:7] == '01') | (oil_series.index.str[5:7] == '02')].count()"
   ]
  },
  {
   "cell_type": "code",
   "execution_count": 27,
   "id": "548ad5df-9504-4d49-9bc2-0a76ad6347a8",
   "metadata": {},
   "outputs": [
    {
     "data": {
      "text/plain": [
       "39"
      ]
     },
     "execution_count": 27,
     "metadata": {},
     "output_type": "execute_result"
    }
   ],
   "source": [
    "oil_series[oil_series.index.str[5:7].isin(['01','02'])].count()"
   ]
  },
  {
   "cell_type": "code",
   "execution_count": 28,
   "id": "3095ca53-8792-4cf8-a1b5-4db4748fd2bc",
   "metadata": {},
   "outputs": [
    {
     "data": {
      "text/plain": [
       "0.1    47.299\n",
       "0.9    53.811\n",
       "0.5    52.190\n",
       "Name: Oil_series, dtype: float64"
      ]
     },
     "execution_count": 28,
     "metadata": {},
     "output_type": "execute_result"
    }
   ],
   "source": [
    "oil_series.quantile([0.1,0.9,0.5])"
   ]
  },
  {
   "cell_type": "code",
   "execution_count": 29,
   "id": "68fc863d-22f2-4f02-95f7-a33aa029ad0f",
   "metadata": {},
   "outputs": [
    {
     "data": {
      "text/plain": [
       "100"
      ]
     },
     "execution_count": 29,
     "metadata": {},
     "output_type": "execute_result"
    }
   ],
   "source": [
    "oil_series.astype(int).count()"
   ]
  },
  {
   "cell_type": "code",
   "execution_count": 30,
   "id": "2d0ea594",
   "metadata": {},
   "outputs": [
    {
     "data": {
      "text/plain": [
       "array([52, 51, 54, 53, 50, 49, 48, 47, 45, 46])"
      ]
     },
     "execution_count": 30,
     "metadata": {},
     "output_type": "execute_result"
    }
   ],
   "source": [
    "oil_series.astype(int).unique(\n",
    "    \n",
    ")"
   ]
  },
  {
   "cell_type": "code",
   "execution_count": 31,
   "id": "d220d35d",
   "metadata": {},
   "outputs": [
    {
     "data": {
      "text/plain": [
       "Oil_series\n",
       "53    0.26\n",
       "52    0.22\n",
       "47    0.13\n",
       "48    0.10\n",
       "51    0.07\n",
       "50    0.07\n",
       "49    0.06\n",
       "54    0.05\n",
       "45    0.02\n",
       "46    0.02\n",
       "Name: proportion, dtype: float64"
      ]
     },
     "execution_count": 31,
     "metadata": {},
     "output_type": "execute_result"
    }
   ],
   "source": [
    "oil_series.astype(int).value_counts(normalize = True)"
   ]
  },
  {
   "cell_type": "code",
   "execution_count": null,
   "id": "a5082d8f",
   "metadata": {},
   "outputs": [],
   "source": []
  },
  {
   "cell_type": "code",
   "execution_count": null,
   "id": "fdbd3f03",
   "metadata": {},
   "outputs": [],
   "source": []
  },
  {
   "cell_type": "markdown",
   "id": "b81e8ab9",
   "metadata": {},
   "source": [
    "# Assignment 6: Missing Data\n",
    "\n",
    "There were some erroneous prices in our data, so they were filled in with missing values.\n",
    "\n",
    "Can you confirm the number of missing values in the price column? \n",
    "\n",
    "Once you’ve done that, fill the prices in with the median of the oil price series.\n"
   ]
  },
  {
   "cell_type": "code",
   "execution_count": 32,
   "id": "6d5fdec5",
   "metadata": {
    "scrolled": true
   },
   "outputs": [],
   "source": [
    "# Fill in two values with missing data\n",
    "\n",
    "oil_series = oil_series.where(~oil_series.isin([51.44, 47.83]), pd.NA)"
   ]
  },
  {
   "cell_type": "code",
   "execution_count": 39,
   "id": "4c9fc3a5",
   "metadata": {},
   "outputs": [
    {
     "data": {
      "text/plain": [
       "2"
      ]
     },
     "execution_count": 39,
     "metadata": {},
     "output_type": "execute_result"
    }
   ],
   "source": [
    "oil_series.isna().sum()"
   ]
  },
  {
   "cell_type": "code",
   "execution_count": 40,
   "id": "0be01e5f-7525-4de6-9a45-5e08ec19f1d1",
   "metadata": {},
   "outputs": [
    {
     "data": {
      "text/plain": [
       "52.205"
      ]
     },
     "execution_count": 40,
     "metadata": {},
     "output_type": "execute_result"
    }
   ],
   "source": [
    "oil_series.median()"
   ]
  },
  {
   "cell_type": "code",
   "execution_count": 41,
   "id": "34cdc771-3b40-458c-991c-b449ce988e87",
   "metadata": {},
   "outputs": [
    {
     "data": {
      "text/plain": [
       "date\n",
       "2016-12-20                                                52.22\n",
       "2016-12-21    <bound method Series.median of date\\n2016-12-2...\n",
       "2016-12-22                                                51.98\n",
       "2016-12-23                                                52.01\n",
       "2016-12-27                                                52.82\n",
       "                                    ...                        \n",
       "2017-05-09                                                45.84\n",
       "2017-05-10                                                47.28\n",
       "2017-05-11                                                47.81\n",
       "2017-05-12    <bound method Series.median of date\\n2016-12-2...\n",
       "2017-05-15                                                48.86\n",
       "Name: Oil_series, Length: 100, dtype: object"
      ]
     },
     "execution_count": 41,
     "metadata": {},
     "output_type": "execute_result"
    }
   ],
   "source": [
    "oilse = oil_series.fillna(oil_series.median)\n",
    "oilse"
   ]
  },
  {
   "cell_type": "code",
   "execution_count": null,
   "id": "1ec16104",
   "metadata": {
    "scrolled": true
   },
   "outputs": [],
   "source": [
    "\n"
   ]
  },
  {
   "cell_type": "markdown",
   "id": "19a0e70c",
   "metadata": {},
   "source": [
    "# Exercise 7: Apply and Where\n",
    "\n",
    "Write a function that outputs ‘buy’ if price is less than the 90th percentile and ‘wait’ if it’s not. Apply it to the oil series.\n",
    "\n",
    "Then, create a series that multiplies price by .9 if the date is ‘2016-12-23’ or ‘2017-05-10’, and 1.1 for all other dates. "
   ]
  },
  {
   "cell_type": "code",
   "execution_count": null,
   "id": "e508687c",
   "metadata": {},
   "outputs": [],
   "source": []
  },
  {
   "cell_type": "code",
   "execution_count": 45,
   "id": "c18931ba-2a7a-4de8-ab30-14858c186b58",
   "metadata": {},
   "outputs": [],
   "source": [
    "def kumi (price, limit):\n",
    "    if price < limit:\n",
    "        return 'Buy'\n",
    "    else:\n",
    "        return 'Wait'\n",
    "        "
   ]
  },
  {
   "cell_type": "code",
   "execution_count": 59,
   "id": "35f279b6-ed8b-4096-8de9-1ed656733327",
   "metadata": {},
   "outputs": [
    {
     "data": {
      "text/plain": [
       "date\n",
       "2016-12-20       Buy now\n",
       "2016-12-21    Wait a Bit\n",
       "2016-12-22       Buy now\n",
       "2016-12-23       Buy now\n",
       "2016-12-27       Buy now\n",
       "                 ...    \n",
       "2017-05-09       Buy now\n",
       "2017-05-10       Buy now\n",
       "2017-05-11       Buy now\n",
       "2017-05-12    Wait a Bit\n",
       "2017-05-15       Buy now\n",
       "Name: Oil_series, Length: 100, dtype: object"
      ]
     },
     "execution_count": 59,
     "metadata": {},
     "output_type": "execute_result"
    }
   ],
   "source": [
    "oil_series.apply(lambda x : \"Buy now\" if x < oil_series.quantile(0.9) else \"Wait a Bit\") #x is always the value "
   ]
  },
  {
   "cell_type": "code",
   "execution_count": 49,
   "id": "560fec43-4335-4e82-ac24-6f09e62a4cbf",
   "metadata": {},
   "outputs": [
    {
     "data": {
      "text/plain": [
       "date\n",
       "2016-12-20     Buy\n",
       "2016-12-21    Wait\n",
       "2016-12-22     Buy\n",
       "2016-12-23     Buy\n",
       "2016-12-27     Buy\n",
       "              ... \n",
       "2017-05-09     Buy\n",
       "2017-05-10     Buy\n",
       "2017-05-11     Buy\n",
       "2017-05-12    Wait\n",
       "2017-05-15     Buy\n",
       "Name: Oil_series, Length: 100, dtype: object"
      ]
     },
     "execution_count": 49,
     "metadata": {},
     "output_type": "execute_result"
    }
   ],
   "source": [
    "oil_series.apply(kumi, args = (oil_series.quantile(0.9),))\n",
    "                "
   ]
  },
  {
   "cell_type": "code",
   "execution_count": 58,
   "id": "96e65584-a6c0-41e8-bf3c-75f2044b38c5",
   "metadata": {},
   "outputs": [
    {
     "data": {
      "text/plain": [
       "date\n",
       "2016-12-20    57.442\n",
       "2016-12-21       NaN\n",
       "2016-12-22    57.178\n",
       "2016-12-23    46.809\n",
       "2016-12-27    58.102\n",
       "               ...  \n",
       "2017-05-09    50.424\n",
       "2017-05-10    42.552\n",
       "2017-05-11    52.591\n",
       "2017-05-12       NaN\n",
       "2017-05-15    53.746\n",
       "Name: Oil_series, Length: 100, dtype: float64"
      ]
     },
     "execution_count": 58,
     "metadata": {},
     "output_type": "execute_result"
    }
   ],
   "source": [
    "(oil_series\n",
    " .where(oil_series.index.isin(['2016-12-23','2017-05-10']), oil_series.mul(1.1))\n",
    " .where(~oil_series.index.isin(['2016-12-23','2017-05-10']), oil_series.mul(0.9))\n",
    "\n",
    ")"
   ]
  },
  {
   "cell_type": "code",
   "execution_count": 55,
   "id": "3496ec24",
   "metadata": {},
   "outputs": [
    {
     "data": {
      "text/plain": [
       "date\n",
       "2016-12-20    57.442\n",
       "2016-12-21       NaN\n",
       "2016-12-22    57.178\n",
       "2016-12-23    46.809\n",
       "2016-12-27    58.102\n",
       "               ...  \n",
       "2017-05-09    50.424\n",
       "2017-05-10    42.552\n",
       "2017-05-11    52.591\n",
       "2017-05-12       NaN\n",
       "2017-05-15    53.746\n",
       "Name: Oil_series, Length: 100, dtype: float64"
      ]
     },
     "execution_count": 55,
     "metadata": {},
     "output_type": "execute_result"
    }
   ],
   "source": [
    "(oil_series\n",
    " .where(oil_series.index.isin([\"2016-12-23\", \"2017-05-10\"]), oil_series * 1.1)\n",
    " .where(~oil_series.index.isin([\"2016-12-23\", \"2017-05-10\"]), oil_series * .9)\n",
    ")"
   ]
  },
  {
   "cell_type": "code",
   "execution_count": null,
   "id": "feab5b7d",
   "metadata": {},
   "outputs": [],
   "source": []
  },
  {
   "cell_type": "code",
   "execution_count": null,
   "id": "6e9ec561",
   "metadata": {},
   "outputs": [],
   "source": []
  }
 ],
 "metadata": {
  "kernelspec": {
   "display_name": "Python 3 (ipykernel)",
   "language": "python",
   "name": "python3"
  },
  "language_info": {
   "codemirror_mode": {
    "name": "ipython",
    "version": 3
   },
   "file_extension": ".py",
   "mimetype": "text/x-python",
   "name": "python",
   "nbconvert_exporter": "python",
   "pygments_lexer": "ipython3",
   "version": "3.12.7"
  }
 },
 "nbformat": 4,
 "nbformat_minor": 5
}
