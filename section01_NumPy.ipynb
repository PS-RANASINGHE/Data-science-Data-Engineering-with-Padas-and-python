{
 "cells": [
  {
   "cell_type": "markdown",
   "id": "d0d4a2ef",
   "metadata": {},
   "source": [
    "### Package Imports"
   ]
  },
  {
   "cell_type": "code",
   "execution_count": 2,
   "id": "dbd96293",
   "metadata": {},
   "outputs": [],
   "source": [
    "import numpy as np"
   ]
  },
  {
   "cell_type": "markdown",
   "id": "3a5e9bd3",
   "metadata": {},
   "source": [
    "# Assignment 1: Array Basics\n",
    "\n",
    "Hi there,\n",
    "\n",
    "Can you import Numpy and convert the following list comprehension (I just learned about comprehensions in an awesome course by Maven) into an array?\n",
    "\n",
    "Once you've done that report the following about the array:\n",
    "* The number of dimensions \n",
    "* The shape\n",
    "* The number of elements in the array\n",
    "* The type of data contained inside"
   ]
  },
  {
   "cell_type": "code",
   "execution_count": 23,
   "id": "6d3f8d99",
   "metadata": {},
   "outputs": [],
   "source": [
    "my_list = [x * 10 for x in range(1, 11)]\n",
    "a = np.array(my_list).reshape(5,2)"
   ]
  },
  {
   "cell_type": "code",
   "execution_count": 24,
   "id": "51230514-6e79-4e7e-a8ba-8ff942c932fd",
   "metadata": {},
   "outputs": [
    {
     "data": {
      "text/plain": [
       "array([[ 10,  20],\n",
       "       [ 30,  40],\n",
       "       [ 50,  60],\n",
       "       [ 70,  80],\n",
       "       [ 90, 100]])"
      ]
     },
     "execution_count": 24,
     "metadata": {},
     "output_type": "execute_result"
    }
   ],
   "source": [
    "a"
   ]
  },
  {
   "cell_type": "code",
   "execution_count": 16,
   "id": "7b50a227",
   "metadata": {},
   "outputs": [
    {
     "data": {
      "text/plain": [
       "(10, 1)"
      ]
     },
     "execution_count": 16,
     "metadata": {},
     "output_type": "execute_result"
    }
   ],
   "source": [
    "a.shape"
   ]
  },
  {
   "cell_type": "code",
   "execution_count": 11,
   "id": "6c5d9bd1",
   "metadata": {},
   "outputs": [
    {
     "data": {
      "text/plain": [
       "1"
      ]
     },
     "execution_count": 11,
     "metadata": {},
     "output_type": "execute_result"
    }
   ],
   "source": [
    "a.ndim"
   ]
  },
  {
   "cell_type": "code",
   "execution_count": 18,
   "id": "359005d2-cb03-4b00-a09f-b7cd298703c9",
   "metadata": {},
   "outputs": [
    {
     "data": {
      "text/plain": [
       "10"
      ]
     },
     "execution_count": 18,
     "metadata": {},
     "output_type": "execute_result"
    }
   ],
   "source": [
    "a.size"
   ]
  },
  {
   "cell_type": "code",
   "execution_count": 19,
   "id": "a4e21648-cfa2-41cd-85e0-8add293873b5",
   "metadata": {},
   "outputs": [
    {
     "data": {
      "text/plain": [
       "dtype('int32')"
      ]
     },
     "execution_count": 19,
     "metadata": {},
     "output_type": "execute_result"
    }
   ],
   "source": [
    "a.dtype"
   ]
  },
  {
   "cell_type": "code",
   "execution_count": null,
   "id": "f13cbb0c-bd6a-4691-992f-abf00429bfe0",
   "metadata": {},
   "outputs": [],
   "source": []
  },
  {
   "cell_type": "markdown",
   "id": "8ff92bb7",
   "metadata": {},
   "source": [
    "# Assignment 2: Array Creation\n",
    "\n",
    "Thanks for your help with the first piece - I'm starting to understand some of the key differences between base Python data types and NumPy arrays. \n",
    "\n",
    "Does NumPy have anything like the range() function from base Python?\n",
    "\n",
    "If so: \n",
    "* create the same array from assignment 1 using a NumPy function. \n",
    "* Make it 5 rows and 2 columns. \n",
    "* It's ok if the datatype is float or int."
   ]
  },
  {
   "cell_type": "code",
   "execution_count": 31,
   "id": "81839e0f",
   "metadata": {},
   "outputs": [
    {
     "data": {
      "text/plain": [
       "array([  0,  10,  20,  30,  40,  50,  60,  70,  80,  90, 100])"
      ]
     },
     "execution_count": 31,
     "metadata": {},
     "output_type": "execute_result"
    }
   ],
   "source": [
    "b = np.arange(0,101, 10)\n",
    "b"
   ]
  },
  {
   "cell_type": "code",
   "execution_count": 28,
   "id": "7d28286a-b034-44b5-a385-ecdd15b8ceff",
   "metadata": {},
   "outputs": [
    {
     "data": {
      "text/plain": [
       "array([[0, 1],\n",
       "       [2, 3],\n",
       "       [4, 5],\n",
       "       [6, 7],\n",
       "       [8, 9]])"
      ]
     },
     "execution_count": 28,
     "metadata": {},
     "output_type": "execute_result"
    }
   ],
   "source": [
    "c = b.reshape(5,2)\n",
    "c"
   ]
  },
  {
   "cell_type": "code",
   "execution_count": 41,
   "id": "4950777e-910e-4593-a654-c447b33464ec",
   "metadata": {},
   "outputs": [
    {
     "data": {
      "text/plain": [
       "array([[  1.        ,   2.01010101,   3.02020202,   4.03030303,\n",
       "          5.04040404,   6.05050505,   7.06060606,   8.07070707,\n",
       "          9.08080808,  10.09090909],\n",
       "       [ 11.1010101 ,  12.11111111,  13.12121212,  14.13131313,\n",
       "         15.14141414,  16.15151515,  17.16161616,  18.17171717,\n",
       "         19.18181818,  20.19191919],\n",
       "       [ 21.2020202 ,  22.21212121,  23.22222222,  24.23232323,\n",
       "         25.24242424,  26.25252525,  27.26262626,  28.27272727,\n",
       "         29.28282828,  30.29292929],\n",
       "       [ 31.3030303 ,  32.31313131,  33.32323232,  34.33333333,\n",
       "         35.34343434,  36.35353535,  37.36363636,  38.37373737,\n",
       "         39.38383838,  40.39393939],\n",
       "       [ 41.4040404 ,  42.41414141,  43.42424242,  44.43434343,\n",
       "         45.44444444,  46.45454545,  47.46464646,  48.47474747,\n",
       "         49.48484848,  50.49494949],\n",
       "       [ 51.50505051,  52.51515152,  53.52525253,  54.53535354,\n",
       "         55.54545455,  56.55555556,  57.56565657,  58.57575758,\n",
       "         59.58585859,  60.5959596 ],\n",
       "       [ 61.60606061,  62.61616162,  63.62626263,  64.63636364,\n",
       "         65.64646465,  66.65656566,  67.66666667,  68.67676768,\n",
       "         69.68686869,  70.6969697 ],\n",
       "       [ 71.70707071,  72.71717172,  73.72727273,  74.73737374,\n",
       "         75.74747475,  76.75757576,  77.76767677,  78.77777778,\n",
       "         79.78787879,  80.7979798 ],\n",
       "       [ 81.80808081,  82.81818182,  83.82828283,  84.83838384,\n",
       "         85.84848485,  86.85858586,  87.86868687,  88.87878788,\n",
       "         89.88888889,  90.8989899 ],\n",
       "       [ 91.90909091,  92.91919192,  93.92929293,  94.93939394,\n",
       "         95.94949495,  96.95959596,  97.96969697,  98.97979798,\n",
       "         99.98989899, 101.        ]])"
      ]
     },
     "execution_count": 41,
     "metadata": {},
     "output_type": "execute_result"
    }
   ],
   "source": [
    "c = np.linspace(1,101,100).reshape(10,10)\n",
    "c"
   ]
  },
  {
   "cell_type": "code",
   "execution_count": 46,
   "id": "856ca2a0-498b-4132-82ea-d4b01772796b",
   "metadata": {},
   "outputs": [
    {
     "data": {
      "text/plain": [
       "array([ 10.,  19.,  28.,  37.,  46.,  55.,  64.,  73.,  82.,  91., 100.])"
      ]
     },
     "execution_count": 46,
     "metadata": {},
     "output_type": "execute_result"
    }
   ],
   "source": [
    "c = np.linspace(10,100,11)\n",
    "c"
   ]
  },
  {
   "cell_type": "code",
   "execution_count": null,
   "id": "811dd9ca-14fa-4c0e-a91c-a613024839a7",
   "metadata": {},
   "outputs": [],
   "source": []
  },
  {
   "cell_type": "code",
   "execution_count": null,
   "id": "349c4431-8b3c-43ca-ae57-68b180733c69",
   "metadata": {},
   "outputs": [],
   "source": []
  },
  {
   "cell_type": "code",
   "execution_count": null,
   "id": "de5da4fa-d96d-455b-a978-0194cfd3a89b",
   "metadata": {},
   "outputs": [],
   "source": []
  },
  {
   "cell_type": "code",
   "execution_count": null,
   "id": "73f3dd85-c7e6-43ec-be92-3f9137cc8d53",
   "metadata": {},
   "outputs": [],
   "source": []
  },
  {
   "cell_type": "markdown",
   "id": "e0849aa4",
   "metadata": {},
   "source": [
    "Looking good so far! One of our data scientists asked about random number generation in NumPy.\n",
    "\n",
    "Can you create a 3x3 array of random numbers between 0 and 1? Use a random state of 2022.\n",
    "\n",
    "Store the random array in a variable called `random_array`."
   ]
  },
  {
   "cell_type": "code",
   "execution_count": 3,
   "id": "a2e29128",
   "metadata": {},
   "outputs": [
    {
     "data": {
      "text/plain": [
       "array([[0.24742606, 0.09299006, 0.61176337],\n",
       "       [0.06066207, 0.66103343, 0.75515778],\n",
       "       [0.1108689 , 0.04305584, 0.41441747]])"
      ]
     },
     "execution_count": 3,
     "metadata": {},
     "output_type": "execute_result"
    }
   ],
   "source": [
    "rng = np.random.default_rng(2022)\n",
    "d = rng.random(9).reshape(3,3)\n",
    "d"
   ]
  },
  {
   "cell_type": "code",
   "execution_count": null,
   "id": "5b9b36e2-1b83-46dd-80fb-4dbf942a2941",
   "metadata": {},
   "outputs": [],
   "source": []
  },
  {
   "cell_type": "markdown",
   "id": "6927e8b0",
   "metadata": {},
   "source": [
    "# Assignment 3: Accessing Array Data\n",
    "\n",
    "\n",
    "Slice and index the `random_array` we created in the previous exercise. Perform the following:\n",
    "\n",
    "* Grab the first two 'rows' of the array\n",
    "* Grab the entire first column\n",
    "* Finally, grab the second selement of the third row.\n",
    "\n",
    "Thanks!\n"
   ]
  },
  {
   "cell_type": "code",
   "execution_count": 62,
   "id": "62a4e208",
   "metadata": {},
   "outputs": [
    {
     "data": {
      "text/plain": [
       "array([[0.24742606, 0.09299006, 0.61176337],\n",
       "       [0.06066207, 0.66103343, 0.75515778]])"
      ]
     },
     "execution_count": 62,
     "metadata": {},
     "output_type": "execute_result"
    }
   ],
   "source": [
    "d[:2,:]"
   ]
  },
  {
   "cell_type": "code",
   "execution_count": 64,
   "id": "8f9e9acf",
   "metadata": {
    "scrolled": true
   },
   "outputs": [
    {
     "data": {
      "text/plain": [
       "array([0.24742606, 0.06066207, 0.1108689 ])"
      ]
     },
     "execution_count": 64,
     "metadata": {},
     "output_type": "execute_result"
    }
   ],
   "source": [
    "d[:,0]"
   ]
  },
  {
   "cell_type": "code",
   "execution_count": 58,
   "id": "87fa83f7",
   "metadata": {},
   "outputs": [
    {
     "data": {
      "text/plain": [
       "0.04305584439252108"
      ]
     },
     "execution_count": 58,
     "metadata": {},
     "output_type": "execute_result"
    }
   ],
   "source": [
    "d[2,1]"
   ]
  },
  {
   "cell_type": "code",
   "execution_count": 60,
   "id": "fe985696",
   "metadata": {},
   "outputs": [
    {
     "data": {
      "text/plain": [
       "array([0.24742606, 0.06066207, 0.1108689 ])"
      ]
     },
     "execution_count": 60,
     "metadata": {},
     "output_type": "execute_result"
    }
   ],
   "source": [
    "d[:,0]"
   ]
  },
  {
   "cell_type": "markdown",
   "id": "6e9ae36a",
   "metadata": {},
   "source": [
    "# Assignment 4: Arithmetic Operations"
   ]
  },
  {
   "cell_type": "markdown",
   "id": "b7283da4",
   "metadata": {},
   "source": [
    "The creativity of our marketing team knows no bounds!\n",
    "\n",
    "They've asked us to come up with a simple algorithm to provide a random discount to our list of prices below. \n",
    "\n",
    "Before we do that, \n",
    "\n",
    "* Add a 5 dollar shipping fee to each price. Call this array `total`.\n",
    "\n",
    "Once we have that, we want to use the random_array created in assignment 2 and apply them to the 6 prices.\n",
    "\n",
    "* Grab the first 6 numbers from `random_array`, reshape it to one dimension. Call this `discount_pct`.\n",
    "* Subtract `discount_pct` FROM 1, store this in `pct_owed`.\n",
    "* Multiply `pct_owed` by `total` to get the final amount owed."
   ]
  },
  {
   "cell_type": "code",
   "execution_count": 8,
   "id": "f44773da",
   "metadata": {},
   "outputs": [
    {
     "data": {
      "text/plain": [
       "array([ 10.99,  11.99,  27.49, 104.99,   9.99,  54.99])"
      ]
     },
     "execution_count": 8,
     "metadata": {},
     "output_type": "execute_result"
    }
   ],
   "source": [
    "prices = np.array([5.99, 6.99, 22.49, 99.99, 4.99, 49.99])\n",
    "total = prices + 5\n",
    "total"
   ]
  },
  {
   "cell_type": "code",
   "execution_count": 9,
   "id": "bc6e09ca-4e99-45ae-b1a6-f7cd88b05277",
   "metadata": {},
   "outputs": [
    {
     "data": {
      "text/plain": [
       "array([[0.24742606, 0.09299006, 0.61176337],\n",
       "       [0.06066207, 0.66103343, 0.75515778],\n",
       "       [0.1108689 , 0.04305584, 0.41441747]])"
      ]
     },
     "execution_count": 9,
     "metadata": {},
     "output_type": "execute_result"
    }
   ],
   "source": [
    "d"
   ]
  },
  {
   "cell_type": "code",
   "execution_count": 6,
   "id": "9171609a",
   "metadata": {},
   "outputs": [
    {
     "data": {
      "text/plain": [
       "array([0.24742606, 0.09299006, 0.61176337, 0.06066207, 0.66103343,\n",
       "       0.75515778])"
      ]
     },
     "execution_count": 6,
     "metadata": {},
     "output_type": "execute_result"
    }
   ],
   "source": [
    "discount_pct = d[:2,:].reshape(6)\n",
    "\n"
   ]
  },
  {
   "cell_type": "code",
   "execution_count": 11,
   "id": "16c78611-10f0-40ba-9b4f-c5066acc48bb",
   "metadata": {},
   "outputs": [],
   "source": [
    "pct_owed = 1 - discount_pct"
   ]
  },
  {
   "cell_type": "code",
   "execution_count": 17,
   "id": "b4088c65-1af5-43af-8de5-d38d7e2f0c1f",
   "metadata": {},
   "outputs": [
    {
     "data": {
      "text/plain": [
       "array([ 8.27, 10.88, 10.67, 98.62,  3.39, 13.46])"
      ]
     },
     "execution_count": 17,
     "metadata": {},
     "output_type": "execute_result"
    }
   ],
   "source": [
    "final= (pct_owed*total).round(2)\n",
    "final"
   ]
  },
  {
   "cell_type": "code",
   "execution_count": null,
   "id": "a06dbc29",
   "metadata": {},
   "outputs": [],
   "source": []
  },
  {
   "cell_type": "code",
   "execution_count": null,
   "id": "da03368e",
   "metadata": {},
   "outputs": [],
   "source": []
  },
  {
   "cell_type": "markdown",
   "id": "30400903",
   "metadata": {},
   "source": [
    "# Assignment 5: Filtering Arrays\n",
    "\n",
    "Filter the product array to only include those with prices greater than 25.\n",
    "\n",
    "Modify your logic to include cola, despite it not having a price greater than 25. \n",
    "Store the elements returned in an array called `fancy_feast_special`.\n",
    "\n",
    "Next, create a shipping cost array where the cost is 0 if price is greater than 20, and 5 if not. "
   ]
  },
  {
   "cell_type": "code",
   "execution_count": 31,
   "id": "c144c432",
   "metadata": {},
   "outputs": [
    {
     "data": {
      "text/plain": [
       "array(['rare tomato', 'gourmet ice cream'], dtype='<U17')"
      ]
     },
     "execution_count": 31,
     "metadata": {},
     "output_type": "execute_result"
    }
   ],
   "source": [
    "products = np.array(\n",
    "    [\"salad\", \"bread\", \"mustard\", \"rare tomato\", \"cola\", \"gourmet ice cream\"]\n",
    ")\n",
    "products[prices > 25]\n"
   ]
  },
  {
   "cell_type": "code",
   "execution_count": 32,
   "id": "ba1b077b",
   "metadata": {},
   "outputs": [
    {
     "data": {
      "text/plain": [
       "array(['rare tomato', 'cola', 'gourmet ice cream'], dtype='<U17')"
      ]
     },
     "execution_count": 32,
     "metadata": {},
     "output_type": "execute_result"
    }
   ],
   "source": [
    "fancy_feast_special = products[(prices > 25) | (products == \"cola\")]\n",
    "fancy_feast_special"
   ]
  },
  {
   "cell_type": "code",
   "execution_count": 33,
   "id": "4002705c",
   "metadata": {},
   "outputs": [
    {
     "data": {
      "text/plain": [
       "array([5, 5, 0, 0, 5, 0])"
      ]
     },
     "execution_count": 33,
     "metadata": {},
     "output_type": "execute_result"
    }
   ],
   "source": [
    "shipping =  np.where(prices > 20, 0, 5)\n",
    "shipping"
   ]
  },
  {
   "cell_type": "code",
   "execution_count": null,
   "id": "4a8368d4",
   "metadata": {},
   "outputs": [],
   "source": []
  },
  {
   "cell_type": "markdown",
   "id": "44ce04ed",
   "metadata": {},
   "source": [
    "# Assignment 6: Aggregating and Sorting Arrays\n",
    "\n",
    "First, grab the top 3 highest priced items in our list. \n",
    "\n",
    "Then, calculated the mean, min, max, and median of the top three prices.\n",
    "\n",
    "Finally, calculate the number of unique price tiers in our `price_tiers` array."
   ]
  },
  {
   "cell_type": "code",
   "execution_count": 45,
   "id": "f97f4598",
   "metadata": {},
   "outputs": [
    {
     "data": {
      "text/plain": [
       "array([22.49, 49.99, 99.99])"
      ]
     },
     "execution_count": 45,
     "metadata": {},
     "output_type": "execute_result"
    }
   ],
   "source": [
    "prices = np.array([5.99, 6.99, 22.49, 99.99, 4.99, 49.99])\n",
    "top3 = np.sort(prices)[-3:]\n",
    "top3"
   ]
  },
  {
   "cell_type": "code",
   "execution_count": 41,
   "id": "c462eeef",
   "metadata": {},
   "outputs": [
    {
     "data": {
      "text/plain": [
       "array([22.49, 49.99, 99.99])"
      ]
     },
     "execution_count": 41,
     "metadata": {},
     "output_type": "execute_result"
    }
   ],
   "source": [
    "prices[-3:]"
   ]
  },
  {
   "cell_type": "code",
   "execution_count": 48,
   "id": "4a0b5694",
   "metadata": {},
   "outputs": [
    {
     "name": "stdout",
     "output_type": "stream",
     "text": [
      "Mean 57.49\n",
      "Min 22.49\n",
      "Max 99.99\n",
      "Median 49.99\n"
     ]
    }
   ],
   "source": [
    "print(f\"Mean\", np.mean(top3))\n",
    "print(f\"Min\", np.min(top3))\n",
    "print(f\"Max\",np.max(top3))\n",
    "print(f\"Median\",np.median(top3))"
   ]
  },
  {
   "cell_type": "code",
   "execution_count": null,
   "id": "de696f1a",
   "metadata": {},
   "outputs": [],
   "source": []
  },
  {
   "cell_type": "code",
   "execution_count": 49,
   "id": "b9087568",
   "metadata": {},
   "outputs": [
    {
     "data": {
      "text/plain": [
       "array(['budget', 'luxury', 'mid-tier'], dtype='<U8')"
      ]
     },
     "execution_count": 49,
     "metadata": {},
     "output_type": "execute_result"
    }
   ],
   "source": [
    "price_tiers = np.array([\"budget\", \"budget\", \"mid-tier\", \"luxury\", \"mid-tier\", \"luxury\"])\n",
    "uni = np.unique(price_tiers)\n",
    "uni"
   ]
  },
  {
   "cell_type": "code",
   "execution_count": null,
   "id": "6b6e2292",
   "metadata": {},
   "outputs": [],
   "source": []
  },
  {
   "cell_type": "markdown",
   "id": "31b66238",
   "metadata": {},
   "source": [
    "# Assignment 7: Bringing it All Together\n",
    "\n",
    "Ok, final NumPy task - let's read in some data with the help of Pandas.\n",
    "\n",
    "Our data scientist provided the code to read in a csv as a Pandas dataframe, and has converted the two columns of interest to arrays.\n",
    "\n",
    "* Filter `sales_array` down to only sales where the product family was produce. \n",
    "\n",
    "* Then, randomly sample roughly half (random number < .5) of the produce sales and report the mean and median sales. Use a random seed of 2022.\n",
    "\n",
    "* Finally, create a new array that has the values 'above_both', 'above_median', and 'below_both' based on whether the sales were above the median and mean of the sample, just above the median of the sample, or below both the median and mean of the sample. "
   ]
  },
  {
   "cell_type": "code",
   "execution_count": 50,
   "id": "5b567c99",
   "metadata": {},
   "outputs": [],
   "source": [
    "import pandas as pd\n",
    "import numpy as np\n",
    "\n",
    "retail_df = pd.read_csv(\n",
    "    \"../retail/retail_2016_2017.csv\", skiprows=range(1, 11000), nrows=1000\n",
    ")\n",
    "\n",
    "family_array = np.array(retail_df[\"family\"])\n",
    "sales_array = np.array(retail_df[\"sales\"])"
   ]
  },
  {
   "cell_type": "code",
   "execution_count": null,
   "id": "264cb45d-1648-4edc-a2da-21cdeb7ce204",
   "metadata": {},
   "outputs": [],
   "source": []
  },
  {
   "cell_type": "code",
   "execution_count": 69,
   "id": "0c09131a-82c1-4073-8cb5-99b53770ec98",
   "metadata": {},
   "outputs": [],
   "source": [
    "produce_sale = sales_array[family_array == \"PRODUCE\"]\n"
   ]
  },
  {
   "cell_type": "code",
   "execution_count": 72,
   "id": "4fe35264-99df-4c0c-82d0-d20cf3b05866",
   "metadata": {},
   "outputs": [
    {
     "name": "stdout",
     "output_type": "stream",
     "text": [
      "Mean of the sales =  2268.102470588235\n",
      "Median of the sales =  1272.755\n"
     ]
    }
   ],
   "source": [
    "rng = np.random.default_rng(2022)\n",
    "\n",
    "random_array = rng.random(30)\n",
    "random_sales = produce_sale[random_array < 0.5]\n",
    "print(f\"Mean of the sales = \" ,np.mean(random_sales))\n",
    "print (f\"Median of the sales = \" , np.median(random_sales))\n"
   ]
  },
  {
   "cell_type": "code",
   "execution_count": 73,
   "id": "96eaf423",
   "metadata": {},
   "outputs": [
    {
     "name": "stdout",
     "output_type": "stream",
     "text": [
      "[ True  True False  True False False  True  True  True False False  True\n",
      " False  True  True False False False False False  True  True False False\n",
      "  True  True  True  True  True  True]\n"
     ]
    }
   ],
   "source": [
    "\n",
    "print( random_array < 0.5)"
   ]
  },
  {
   "cell_type": "code",
   "execution_count": 74,
   "id": "432041d4",
   "metadata": {},
   "outputs": [
    {
     "name": "stdout",
     "output_type": "stream",
     "text": [
      "[0.24742606 0.09299006 0.61176337 0.06066207 0.66103343 0.75515778\n",
      " 0.1108689  0.04305584 0.41441747 0.98862926 0.96919869 0.25697153\n",
      " 0.55876211 0.24234798 0.32202029 0.89135975 0.94611366 0.72253931\n",
      " 0.92847437 0.99608701 0.2494223  0.06229007 0.94479027 0.65028587\n",
      " 0.32167568 0.08336384 0.21924361 0.08417791 0.05213927 0.20525022]\n"
     ]
    }
   ],
   "source": [
    "print(random_array)"
   ]
  },
  {
   "cell_type": "code",
   "execution_count": 85,
   "id": "e0186438",
   "metadata": {},
   "outputs": [],
   "source": [
    "mask = np.where((random_sales > np.median(random_sales)) & (random_sales > np.mean(random_sales)), \"above_both\", \n",
    "                np.where(\n",
    "                    random_sales > np.median(random_sales), \"above_median\", \"below_both\"\n",
    "                        ) \n",
    "                    \n",
    "                    \n",
    "                )\n",
    "\n",
    "\n"
   ]
  },
  {
   "cell_type": "code",
   "execution_count": 86,
   "id": "33c9a16a",
   "metadata": {},
   "outputs": [
    {
     "data": {
      "text/plain": [
       "array(['above_median', 'below_both', 'below_both', 'below_both',\n",
       "       'above_both', 'below_both', 'below_both', 'above_both',\n",
       "       'below_both', 'below_both', 'above_both', 'above_both',\n",
       "       'below_both', 'above_median', 'above_both', 'below_both',\n",
       "       'above_both'], dtype='<U12')"
      ]
     },
     "execution_count": 86,
     "metadata": {},
     "output_type": "execute_result"
    }
   ],
   "source": [
    "mask"
   ]
  },
  {
   "cell_type": "code",
   "execution_count": 89,
   "id": "2aebf230",
   "metadata": {},
   "outputs": [
    {
     "data": {
      "text/plain": [
       "array(['above_median', 'below_both', 'below_both', 'below_both',\n",
       "       'above_both', 'below_both', 'below_both', 'above_both',\n",
       "       'below_both', 'above_median', 'above_both', 'above_both',\n",
       "       'below_both', 'above_median', 'above_both', 'below_both',\n",
       "       'above_both'], dtype='<U12')"
      ]
     },
     "execution_count": 89,
     "metadata": {},
     "output_type": "execute_result"
    }
   ],
   "source": [
    "np.where(\n",
    "    random_sales < np.median(random_sales), \"below_both\", np.where(\n",
    "        random_sales < np.mean(random_sales), \"above_median\", \"above_both\"\n",
    "    )    \n",
    ")\n",
    "\n",
    "        "
   ]
  },
  {
   "cell_type": "code",
   "execution_count": 90,
   "id": "0499b964-c00d-4882-a387-1cc76f82c008",
   "metadata": {},
   "outputs": [
    {
     "data": {
      "text/plain": [
       "array([1662.394,  447.064,  962.866, 1077.44 , 3404.531,  962.96 ,\n",
       "       1089.319, 7860.031,  446.038, 1272.755, 2775.771, 2339.906,\n",
       "        722.333, 1567.843, 2458.456,  673.885, 8834.15 ])"
      ]
     },
     "execution_count": 90,
     "metadata": {},
     "output_type": "execute_result"
    }
   ],
   "source": [
    "random_sales"
   ]
  },
  {
   "cell_type": "code",
   "execution_count": null,
   "id": "ed23399a-4d25-469a-b2fe-81b6e7b1bb48",
   "metadata": {},
   "outputs": [],
   "source": []
  }
 ],
 "metadata": {
  "kernelspec": {
   "display_name": "Python 3 (ipykernel)",
   "language": "python",
   "name": "python3"
  },
  "language_info": {
   "codemirror_mode": {
    "name": "ipython",
    "version": 3
   },
   "file_extension": ".py",
   "mimetype": "text/x-python",
   "name": "python",
   "nbconvert_exporter": "python",
   "pygments_lexer": "ipython3",
   "version": "3.12.7"
  }
 },
 "nbformat": 4,
 "nbformat_minor": 5
}
