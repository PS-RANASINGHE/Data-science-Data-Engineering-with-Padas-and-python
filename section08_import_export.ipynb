{
 "cells": [
  {
   "cell_type": "code",
   "execution_count": 1,
   "id": "475cd6b2",
   "metadata": {},
   "outputs": [],
   "source": [
    "import pandas as pd"
   ]
  },
  {
   "cell_type": "markdown",
   "id": "6d40b2cd",
   "metadata": {},
   "source": [
    "# Assignment 1: Streamlined Data Ingestion\n",
    "\n",
    "Now that we have a good idea of what we want the data prep on transactions looks like,\n",
    "let's push that to the read_csv function. \n",
    "\n",
    "Keep an eye on the memory usage before and after. \n",
    "\n",
    "* Change the column names to 'Date', 'Store_Number', and 'Transaction_Count'.\n",
    "* Skip the first row of data.\n",
    "* Convert columns to the appropriate datatypes. \n",
    "\n",
    "Then create the columns we created in the assign assignment in Section 3, by chaining assign with read_csv. \n",
    "\n",
    "Some starter code has been provided for you below. Because the dataframe object returned by read_csv doesn't have a name, we need to use a lambda function to refer to the dataframe.\n",
    "\n",
    "`transactions.assign(\n",
    "    target_pct=transactions[\"transactions\"] / 2500,\n",
    "    met_target=(transactions[\"transactions\"] / 2500) >= 1,\n",
    "    bonus_payable=((transactions[\"transactions\"] / 2500) >= 1) * 100,\n",
    "    month=transactions[\"date\"].dt.month,\n",
    "    day_of_week=transactions[\"date\"].dt.dayofweek,\n",
    ")`\n",
    "\n",
    "The first one should look like:\n",
    "\n",
    "`target_pct = lambda x: (x[\"Transaction_Count\"] / 2500)`\n"
   ]
  },
  {
   "cell_type": "code",
   "execution_count": 9,
   "id": "bb5bb2ff",
   "metadata": {},
   "outputs": [
    {
     "data": {
      "text/html": [
       "<div>\n",
       "<style scoped>\n",
       "    .dataframe tbody tr th:only-of-type {\n",
       "        vertical-align: middle;\n",
       "    }\n",
       "\n",
       "    .dataframe tbody tr th {\n",
       "        vertical-align: top;\n",
       "    }\n",
       "\n",
       "    .dataframe thead th {\n",
       "        text-align: right;\n",
       "    }\n",
       "</style>\n",
       "<table border=\"1\" class=\"dataframe\">\n",
       "  <thead>\n",
       "    <tr style=\"text-align: right;\">\n",
       "      <th></th>\n",
       "      <th>date</th>\n",
       "      <th>store_nbr</th>\n",
       "      <th>transactions</th>\n",
       "    </tr>\n",
       "  </thead>\n",
       "  <tbody>\n",
       "    <tr>\n",
       "      <th>0</th>\n",
       "      <td>2013-01-01</td>\n",
       "      <td>25</td>\n",
       "      <td>770</td>\n",
       "    </tr>\n",
       "    <tr>\n",
       "      <th>1</th>\n",
       "      <td>2013-01-02</td>\n",
       "      <td>1</td>\n",
       "      <td>2111</td>\n",
       "    </tr>\n",
       "    <tr>\n",
       "      <th>2</th>\n",
       "      <td>2013-01-02</td>\n",
       "      <td>2</td>\n",
       "      <td>2358</td>\n",
       "    </tr>\n",
       "    <tr>\n",
       "      <th>3</th>\n",
       "      <td>2013-01-02</td>\n",
       "      <td>3</td>\n",
       "      <td>3487</td>\n",
       "    </tr>\n",
       "    <tr>\n",
       "      <th>4</th>\n",
       "      <td>2013-01-02</td>\n",
       "      <td>4</td>\n",
       "      <td>1922</td>\n",
       "    </tr>\n",
       "  </tbody>\n",
       "</table>\n",
       "</div>"
      ],
      "text/plain": [
       "         date  store_nbr  transactions\n",
       "0  2013-01-01         25           770\n",
       "1  2013-01-02          1          2111\n",
       "2  2013-01-02          2          2358\n",
       "3  2013-01-02          3          3487\n",
       "4  2013-01-02          4          1922"
      ]
     },
     "execution_count": 9,
     "metadata": {},
     "output_type": "execute_result"
    }
   ],
   "source": [
    "# expand on the code below...\n",
    "\n",
    "transactions = pd.read_csv(\"../retail/transactions.csv\", parse_dates = True)\n",
    "transactions.head()"
   ]
  },
  {
   "cell_type": "code",
   "execution_count": 5,
   "id": "ab359186",
   "metadata": {},
   "outputs": [
    {
     "name": "stdout",
     "output_type": "stream",
     "text": [
      "<class 'pandas.core.frame.DataFrame'>\n",
      "RangeIndex: 83488 entries, 0 to 83487\n",
      "Data columns (total 3 columns):\n",
      " #   Column        Non-Null Count  Dtype \n",
      "---  ------        --------------  ----- \n",
      " 0   date          83488 non-null  object\n",
      " 1   store_nbr     83488 non-null  int64 \n",
      " 2   transactions  83488 non-null  int64 \n",
      "dtypes: int64(2), object(1)\n",
      "memory usage: 1.9+ MB\n"
     ]
    }
   ],
   "source": [
    "transactions.info()"
   ]
  },
  {
   "cell_type": "code",
   "execution_count": 19,
   "id": "1f421de0",
   "metadata": {},
   "outputs": [
    {
     "name": "stdout",
     "output_type": "stream",
     "text": [
      "<class 'pandas.core.frame.DataFrame'>\n",
      "RangeIndex: 83487 entries, 0 to 83486\n",
      "Data columns (total 8 columns):\n",
      " #   Column             Non-Null Count  Dtype         \n",
      "---  ------             --------------  -----         \n",
      " 0   Date               83487 non-null  datetime64[ns]\n",
      " 1   store_no           83487 non-null  int64         \n",
      " 2   Transaction_Count  83487 non-null  Int16         \n",
      " 3   target_pct         83487 non-null  Float32       \n",
      " 4   met_target         83487 non-null  boolean       \n",
      " 5   bonus_payable      83487 non-null  Int32         \n",
      " 6   month              83487 non-null  Int8          \n",
      " 7   day_of_week        83487 non-null  Int8          \n",
      "dtypes: Float32(1), Int16(1), Int32(1), Int8(2), boolean(1), datetime64[ns](1), int64(1)\n",
      "memory usage: 2.8 MB\n"
     ]
    }
   ],
   "source": [
    "cols = [\"Date\" , \"store_no\", \"Transaction_Count\"]\n",
    "\n",
    "transactions = pd.read_csv(\"../retail/transactions.csv\", \n",
    "                           header = 0,\n",
    "                           parse_dates = [\"Date\"],\n",
    "                           names = cols,\n",
    "                           skiprows = [0],\n",
    "                           dtype = {\"Store_Number\": \"Int8\", \"Transaction_Count\": \"Int16\"}).assign(\n",
    "                               target_pct= lambda x : (x[\"Transaction_Count\"] / 2500) ,\n",
    "                               met_target= lambda x : (x[\"Transaction_Count\"] / 2500) >= 1,\n",
    "                               bonus_payable= lambda x : ((x[\"Transaction_Count\"] / 2500) >= 1) * 100,\n",
    "                               month=transactions[\"Date\"].dt.month,\n",
    "                               day_of_week=transactions[\"Date\"].dt.dayofweek\n",
    "                           ).astype({                                                                 # Cast new columns to correct dtypes.\n",
    "    \"target_pct\": \"Float32\",                                               # Note this could also be done in assign\n",
    "    \"month\": \"Int8\",                                                      \n",
    "    \"day_of_week\": \"Int8\"\n",
    "})\n",
    "    \n",
    "                          \n",
    "\n",
    "transactions.info(memory_usage=\"deep\")"
   ]
  },
  {
   "cell_type": "code",
   "execution_count": 17,
   "id": "5868915b",
   "metadata": {},
   "outputs": [
    {
     "name": "stdout",
     "output_type": "stream",
     "text": [
      "<class 'pandas.core.frame.DataFrame'>\n",
      "RangeIndex: 83487 entries, 0 to 83486\n",
      "Data columns (total 8 columns):\n",
      " #   Column             Non-Null Count  Dtype         \n",
      "---  ------             --------------  -----         \n",
      " 0   Date               83487 non-null  datetime64[ns]\n",
      " 1   Store_Number       83487 non-null  Int8          \n",
      " 2   Transaction_Count  83487 non-null  Int16         \n",
      " 3   target_pct         83487 non-null  Float32       \n",
      " 4   met_target         83487 non-null  boolean       \n",
      " 5   bonus_payable      83487 non-null  boolean       \n",
      " 6   month              83487 non-null  Int8          \n",
      " 7   day_of_week        83487 non-null  Int8          \n",
      "dtypes: Float32(1), Int16(1), Int8(3), boolean(2), datetime64[ns](1)\n",
      "memory usage: 2.1 MB\n"
     ]
    }
   ],
   "source": [
    "transactions = pd.read_csv(\n",
    "    \"../retail/transactions.csv\",                                          \n",
    "    header=0,                                                              # Suppress header to allow custom names\n",
    "    names=[\"Date\", \"Store_Number\", \"Transaction_Count\"],                   # Specify new column names\n",
    "    skiprows=[0],                                                          # Skip the first row of data\n",
    "    parse_dates=[\"Date\"],                                                  # parse date column\n",
    "    dtype={\"Store_Number\": \"Int8\", \"Transaction_Count\": \"Int16\"}).assign(  # Downcast two integer columns\n",
    "    target_pct = lambda x: (x[\"Transaction_Count\"] / 2500),\n",
    "    met_target = lambda x: (x[\"Transaction_Count\"] / 2500 >= 1),\n",
    "    bonus_payable = lambda x: (x[\"Transaction_Count\"] / 2500 >= 1 * 100),\n",
    "    month = lambda x: x[\"Date\"].dt.month,\n",
    "    day_of_week = lambda x: x[\"Date\"].dt.dayofweek,\n",
    ").astype({                                                                 # Cast new columns to correct dtypes.\n",
    "    \"target_pct\": \"Float32\",                                               # Note this could also be done in assign\n",
    "    \"month\": \"Int8\",                                                      \n",
    "    \"day_of_week\": \"Int8\"\n",
    "})\n",
    "\n",
    "transactions.info()"
   ]
  },
  {
   "cell_type": "markdown",
   "id": "90af5ed3",
   "metadata": {},
   "source": [
    "# Assignment 2: Write to Excel Sheets\n",
    "\n",
    "Write the data in the transactions dataframe you created above into an Excel workbook.\n",
    "\n",
    "Write out a separate sheet for each year of the data.\n",
    "\n",
    "If you prefer, you can write each year of data to a separate csv file."
   ]
  },
  {
   "cell_type": "code",
   "execution_count": 20,
   "id": "1f8c17a6",
   "metadata": {},
   "outputs": [
    {
     "data": {
      "text/html": [
       "<div>\n",
       "<style scoped>\n",
       "    .dataframe tbody tr th:only-of-type {\n",
       "        vertical-align: middle;\n",
       "    }\n",
       "\n",
       "    .dataframe tbody tr th {\n",
       "        vertical-align: top;\n",
       "    }\n",
       "\n",
       "    .dataframe thead th {\n",
       "        text-align: right;\n",
       "    }\n",
       "</style>\n",
       "<table border=\"1\" class=\"dataframe\">\n",
       "  <thead>\n",
       "    <tr style=\"text-align: right;\">\n",
       "      <th></th>\n",
       "      <th>Date</th>\n",
       "      <th>store_no</th>\n",
       "      <th>Transaction_Count</th>\n",
       "      <th>target_pct</th>\n",
       "      <th>met_target</th>\n",
       "      <th>bonus_payable</th>\n",
       "      <th>month</th>\n",
       "      <th>day_of_week</th>\n",
       "    </tr>\n",
       "  </thead>\n",
       "  <tbody>\n",
       "    <tr>\n",
       "      <th>0</th>\n",
       "      <td>2013-01-02</td>\n",
       "      <td>1</td>\n",
       "      <td>2111</td>\n",
       "      <td>0.8444</td>\n",
       "      <td>False</td>\n",
       "      <td>0</td>\n",
       "      <td>1</td>\n",
       "      <td>2</td>\n",
       "    </tr>\n",
       "    <tr>\n",
       "      <th>1</th>\n",
       "      <td>2013-01-02</td>\n",
       "      <td>2</td>\n",
       "      <td>2358</td>\n",
       "      <td>0.9432</td>\n",
       "      <td>False</td>\n",
       "      <td>0</td>\n",
       "      <td>1</td>\n",
       "      <td>2</td>\n",
       "    </tr>\n",
       "    <tr>\n",
       "      <th>2</th>\n",
       "      <td>2013-01-02</td>\n",
       "      <td>3</td>\n",
       "      <td>3487</td>\n",
       "      <td>1.3948</td>\n",
       "      <td>True</td>\n",
       "      <td>100</td>\n",
       "      <td>1</td>\n",
       "      <td>2</td>\n",
       "    </tr>\n",
       "    <tr>\n",
       "      <th>3</th>\n",
       "      <td>2013-01-02</td>\n",
       "      <td>4</td>\n",
       "      <td>1922</td>\n",
       "      <td>0.7688</td>\n",
       "      <td>False</td>\n",
       "      <td>0</td>\n",
       "      <td>1</td>\n",
       "      <td>2</td>\n",
       "    </tr>\n",
       "    <tr>\n",
       "      <th>4</th>\n",
       "      <td>2013-01-02</td>\n",
       "      <td>5</td>\n",
       "      <td>1903</td>\n",
       "      <td>0.7612</td>\n",
       "      <td>False</td>\n",
       "      <td>0</td>\n",
       "      <td>1</td>\n",
       "      <td>2</td>\n",
       "    </tr>\n",
       "  </tbody>\n",
       "</table>\n",
       "</div>"
      ],
      "text/plain": [
       "        Date  store_no  Transaction_Count  target_pct  met_target  \\\n",
       "0 2013-01-02         1               2111      0.8444       False   \n",
       "1 2013-01-02         2               2358      0.9432       False   \n",
       "2 2013-01-02         3               3487      1.3948        True   \n",
       "3 2013-01-02         4               1922      0.7688       False   \n",
       "4 2013-01-02         5               1903      0.7612       False   \n",
       "\n",
       "   bonus_payable  month  day_of_week  \n",
       "0              0      1            2  \n",
       "1              0      1            2  \n",
       "2            100      1            2  \n",
       "3              0      1            2  \n",
       "4              0      1            2  "
      ]
     },
     "execution_count": 20,
     "metadata": {},
     "output_type": "execute_result"
    }
   ],
   "source": [
    "transactions.head()"
   ]
  },
  {
   "cell_type": "code",
   "execution_count": 26,
   "id": "f045b622-300d-4447-813e-155d2ffa3cc6",
   "metadata": {},
   "outputs": [
    {
     "name": "stdout",
     "output_type": "stream",
     "text": [
      "<class 'pandas.core.frame.DataFrame'>\n",
      "RangeIndex: 83487 entries, 0 to 83486\n",
      "Data columns (total 8 columns):\n",
      " #   Column             Non-Null Count  Dtype         \n",
      "---  ------             --------------  -----         \n",
      " 0   Date               83487 non-null  datetime64[ns]\n",
      " 1   store_no           83487 non-null  int64         \n",
      " 2   Transaction_Count  83487 non-null  Int16         \n",
      " 3   target_pct         83487 non-null  Float32       \n",
      " 4   met_target         83487 non-null  boolean       \n",
      " 5   bonus_payable      83487 non-null  Int32         \n",
      " 6   month              83487 non-null  Int8          \n",
      " 7   day_of_week        83487 non-null  Int8          \n",
      "dtypes: Float32(1), Int16(1), Int32(1), Int8(2), boolean(1), datetime64[ns](1), int64(1)\n",
      "memory usage: 2.8 MB\n"
     ]
    }
   ],
   "source": [
    "transactions.info()"
   ]
  },
  {
   "cell_type": "code",
   "execution_count": 24,
   "id": "c79e70d4",
   "metadata": {},
   "outputs": [
    {
     "ename": "SyntaxError",
     "evalue": "(unicode error) 'unicodeescape' codec can't decode bytes in position 2-3: truncated \\UXXXXXXXX escape (1002856548.py, line 1)",
     "output_type": "error",
     "traceback": [
      "\u001b[1;36m  Cell \u001b[1;32mIn[24], line 1\u001b[1;36m\u001b[0m\n\u001b[1;33m    transactions.loc[:,[\"Date\", \"bonus_payable\",\"Transaction_Count\",\"store_no\", \"target_pct\"]].to_csv('C:\\Users\\sesha\\Desktop\\123.csv')\u001b[0m\n\u001b[1;37m                                                                                                      ^\u001b[0m\n\u001b[1;31mSyntaxError\u001b[0m\u001b[1;31m:\u001b[0m (unicode error) 'unicodeescape' codec can't decode bytes in position 2-3: truncated \\UXXXXXXXX escape\n"
     ]
    }
   ],
   "source": [
    "transactions.loc[:,[\"Date\", \"bonus_payable\",\"Transaction_Count\",\"store_no\", \"target_pct\"]].to_csv('C:\\Users\\sesha\\Desktop\\123.csv')"
   ]
  },
  {
   "cell_type": "code",
   "execution_count": 37,
   "id": "fad500f6",
   "metadata": {},
   "outputs": [],
   "source": [
    "transactions.loc[:, [\"Date\",\"bonus_payable\",\"Transaction_Count\",\"store_no\",\"target_pct\"]] \\\n",
    "    .to_csv(r'C:\\Users\\sesha\\Desktop\\123.csv', index=False)"
   ]
  },
  {
   "cell_type": "code",
   "execution_count": 38,
   "id": "adecb721",
   "metadata": {},
   "outputs": [],
   "source": [
    "import pandas as pd\n",
    "\n",
    "# Make sure Date is datetime\n",
    "transactions[\"Date\"] = pd.to_datetime(transactions[\"Date\"])\n",
    "\n",
    "cols = [\"Date\",\"bonus_payable\",\"Transaction_Count\",\"store_no\",\"target_pct\"]\n",
    "\n",
    "with pd.ExcelWriter(r\"C:\\Users\\sesha\\Desktop\\year.xlsx\", engine=\"openpyxl\") as writer:\n",
    "    wrote_any = False\n",
    "    for x in range(2014, 2019):\n",
    "        df_year = transactions.loc[transactions[\"Date\"].dt.year == x, cols]\n",
    "        if not df_year.empty:\n",
    "            df_year.to_excel(writer, sheet_name=str(x), index=False)\n",
    "            wrote_any = True"
   ]
  },
  {
   "cell_type": "code",
   "execution_count": null,
   "id": "7d6ed82e-721e-4aa0-8e54-d28514c92bd5",
   "metadata": {},
   "outputs": [],
   "source": []
  }
 ],
 "metadata": {
  "kernelspec": {
   "display_name": "Python 3 (ipykernel)",
   "language": "python",
   "name": "python3"
  },
  "language_info": {
   "codemirror_mode": {
    "name": "ipython",
    "version": 3
   },
   "file_extension": ".py",
   "mimetype": "text/x-python",
   "name": "python",
   "nbconvert_exporter": "python",
   "pygments_lexer": "ipython3",
   "version": "3.12.7"
  }
 },
 "nbformat": 4,
 "nbformat_minor": 5
}
